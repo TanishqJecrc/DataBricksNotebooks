{
 "cells": [
  {
   "cell_type": "markdown",
   "metadata": {
    "application/vnd.databricks.v1+cell": {
     "cellMetadata": {
      "byteLimit": 2048000,
      "rowLimit": 10000
     },
     "inputWidgets": {},
     "nuid": "4a5813fa-9d1d-421b-bc1d-de4d86c6fbd5",
     "showTitle": false,
     "tableResultSettingsMap": {},
     "title": ""
    }
   },
   "source": [
    "# "
   ]
  },
  {
   "cell_type": "code",
   "execution_count": 0,
   "metadata": {
    "application/vnd.databricks.v1+cell": {
     "cellMetadata": {
      "byteLimit": 2048000,
      "rowLimit": 10000
     },
     "inputWidgets": {},
     "nuid": "03aea7a8-9073-43df-a910-b86540a2020d",
     "showTitle": false,
     "tableResultSettingsMap": {},
     "title": ""
    }
   },
   "outputs": [
    {
     "output_type": "stream",
     "name": "stdout",
     "output_type": "stream",
     "text": [
      "+---------+-------------+-------+----------+------------------------+-----------------------+\n|2014 rank|         City|  State|State Code|2014 Population estimate|2015 median sales price|\n+---------+-------------+-------+----------+------------------------+-----------------------+\n|      101|   Birmingham|Alabama|        AL|                  212247|                  162.9|\n|      125|   Huntsville|Alabama|        AL|                  188226|                  157.7|\n|      122|       Mobile|Alabama|        AL|                  194675|                  122.5|\n|      114|   Montgomery|Alabama|        AL|                  200481|                  129.0|\n|       64|Anchorage[19]| Alaska|        AK|                  301010|                   null|\n+---------+-------------+-------+----------+------------------------+-----------------------+\nonly showing top 5 rows\n\nroot\n |-- 2014 rank: integer (nullable = true)\n |-- City: string (nullable = true)\n |-- State: string (nullable = true)\n |-- State Code: string (nullable = true)\n |-- 2014 Population estimate: integer (nullable = true)\n |-- 2015 median sales price: double (nullable = true)\n\n+---------+-------------+-------+----------+------------------------+-----------------------+\n|2014 rank|         City|  State|State Code|2014 Population estimate|2015 median sales price|\n+---------+-------------+-------+----------+------------------------+-----------------------+\n|      101|   Birmingham|Alabama|        AL|                  212247|                  162.9|\n|      125|   Huntsville|Alabama|        AL|                  188226|                  157.7|\n|      122|       Mobile|Alabama|        AL|                  194675|                  122.5|\n|      114|   Montgomery|Alabama|        AL|                  200481|                  129.0|\n|       64|Anchorage[19]| Alaska|        AK|                  301010|                   null|\n+---------+-------------+-------+----------+------------------------+-----------------------+\nonly showing top 5 rows\n\n"
     ]
    }
   ],
   "source": [
    "# Load it into a DataFrame\n",
    "df = spark.read.csv(\"/databricks-datasets/samples/population-vs-price/data_geo.csv\", header=True, inferSchema=True)\n",
    "df.show(5)\n",
    "# Load the dataset from DBFS (Databricks Filesystem)\n",
    "file_path = \"/databricks-datasets/samples/population-vs-price/data_geo.csv\"\n",
    "df = spark.read.csv(file_path, header=True, inferSchema=True)\n",
    "df.printSchema()\n",
    "df.show(5)"
   ]
  },
  {
   "cell_type": "code",
   "execution_count": 0,
   "metadata": {
    "application/vnd.databricks.v1+cell": {
     "cellMetadata": {
      "byteLimit": 2048000,
      "rowLimit": 10000
     },
     "inputWidgets": {},
     "nuid": "187d7768-ee1d-4433-b9e3-a49b69ccdf77",
     "showTitle": false,
     "tableResultSettingsMap": {},
     "title": ""
    }
   },
   "outputs": [
    {
     "output_type": "stream",
     "name": "stdout",
     "output_type": "stream",
     "text": [
      "+-------------+----------+----------+------------------------+-----------------------+\n|         City|     State|State Code|2014 Population estimate|2015 median sales price|\n+-------------+----------+----------+------------------------+-----------------------+\n|   Birmingham|   Alabama|        AL|                  212247|                  162.9|\n|   Huntsville|   Alabama|        AL|                  188226|                  157.7|\n|       Mobile|   Alabama|        AL|                  194675|                  122.5|\n|   Montgomery|   Alabama|        AL|                  200481|                  129.0|\n|Anchorage[19]|    Alaska|        AK|                  301010|                   null|\n|     Chandler|   Arizona|        AZ|                  254276|                   null|\n|  Gilbert[20]|   Arizona|        AZ|                  239277|                   null|\n|     Glendale|   Arizona|        AZ|                  237517|                   null|\n|         Mesa|   Arizona|        AZ|                  464704|                   null|\n|       Peoria|   Arizona|        AZ|                  166934|                   null|\n|      Phoenix|   Arizona|        AZ|                 1537058|                  206.1|\n|   Scottsdale|   Arizona|        AZ|                  230512|                   null|\n|     Surprise|   Arizona|        AZ|                  126275|                   null|\n|        Tempe|   Arizona|        AZ|                  172816|                   null|\n|       Tucson|   Arizona|        AZ|                  527972|                  178.1|\n|  Little Rock|  Arkansas|        AR|                  197706|                  131.8|\n|      Anaheim|California|        CA|                  346997|                  685.7|\n|      Antioch|California|        CA|                  108930|                   null|\n|  Bakersfield|California|        CA|                  368759|                   null|\n|     Berkeley|California|        CA|                  118853|                   null|\n+-------------+----------+----------+------------------------+-----------------------+\nonly showing top 20 rows\n\n"
     ]
    }
   ],
   "source": [
    "df_selected = df.select('City','State','State Code','2014 Population estimate','2015 median sales price')\n",
    "df_selected.show()"
   ]
  },
  {
   "cell_type": "markdown",
   "metadata": {
    "application/vnd.databricks.v1+cell": {
     "cellMetadata": {
      "byteLimit": 2048000,
      "rowLimit": 10000
     },
     "inputWidgets": {},
     "nuid": "adffd665-caab-4b23-adb3-16136a3a06a1",
     "showTitle": false,
     "tableResultSettingsMap": {},
     "title": ""
    }
   },
   "source": [
    "## Scenario 1: Top 10 Most populous cities"
   ]
  },
  {
   "cell_type": "code",
   "execution_count": 0,
   "metadata": {
    "application/vnd.databricks.v1+cell": {
     "cellMetadata": {
      "byteLimit": 2048000,
      "rowLimit": 10000
     },
     "inputWidgets": {},
     "nuid": "97b4a03b-9de6-4cc5-8916-6817be6a6eb0",
     "showTitle": false,
     "tableResultSettingsMap": {},
     "title": ""
    }
   },
   "outputs": [
    {
     "output_type": "stream",
     "name": "stdout",
     "output_type": "stream",
     "text": [
      "root\n |-- City: string (nullable = true)\n |-- State: string (nullable = true)\n |-- State Code: string (nullable = true)\n |-- 2014 Population estimate: integer (nullable = true)\n |-- 2015 median sales price: double (nullable = true)\n\n"
     ]
    }
   ],
   "source": [
    "df_selected.printSchema()"
   ]
  },
  {
   "cell_type": "code",
   "execution_count": 0,
   "metadata": {
    "application/vnd.databricks.v1+cell": {
     "cellMetadata": {
      "byteLimit": 2048000,
      "rowLimit": 10000
     },
     "inputWidgets": {},
     "nuid": "7877c4ff-a607-45c2-bc62-15f797d2d634",
     "showTitle": false,
     "tableResultSettingsMap": {},
     "title": ""
    }
   },
   "outputs": [
    {
     "output_type": "stream",
     "name": "stdout",
     "output_type": "stream",
     "text": [
      "+---------------+----------+\n|           City|Population|\n+---------------+----------+\n|    New York[6]|   8491079|\n|    Los Angeles|   3928864|\n|        Chicago|   2722389|\n|     Houston[7]|   2239558|\n|Philadelphia[8]|   1560297|\n|        Phoenix|   1537058|\n|    San Antonio|   1436697|\n|      San Diego|   1381069|\n|         Dallas|   1281047|\n|       San Jose|   1015785|\n+---------------+----------+\nonly showing top 10 rows\n\n"
     ]
    }
   ],
   "source": [
    "from pyspark.sql.functions import *\n",
    "df_selected.groupBy('City').agg(sum('2014 Population estimate').alias('Population')).orderBy(desc('Population')).show(10)\n"
   ]
  },
  {
   "cell_type": "code",
   "execution_count": 0,
   "metadata": {
    "application/vnd.databricks.v1+cell": {
     "cellMetadata": {
      "byteLimit": 2048000,
      "rowLimit": 10000
     },
     "inputWidgets": {},
     "nuid": "82ec798a-0c67-4052-addd-12c8f5a8090a",
     "showTitle": false,
     "tableResultSettingsMap": {},
     "title": ""
    }
   },
   "outputs": [
    {
     "output_type": "display_data",
     "data": {
      "text/html": [
       "<style scoped>\n",
       "  .table-result-container {\n",
       "    max-height: 300px;\n",
       "    overflow: auto;\n",
       "  }\n",
       "  table, th, td {\n",
       "    border: 1px solid black;\n",
       "    border-collapse: collapse;\n",
       "  }\n",
       "  th, td {\n",
       "    padding: 5px;\n",
       "  }\n",
       "  th {\n",
       "    text-align: left;\n",
       "  }\n",
       "</style><div class='table-result-container'><table class='table-result'><thead style='background-color: white'><tr><th>City</th><th>Population</th></tr></thead><tbody><tr><td>New York[6]</td><td>8491079</td></tr><tr><td>Los Angeles</td><td>3928864</td></tr><tr><td>Chicago</td><td>2722389</td></tr><tr><td>Houston[7]</td><td>2239558</td></tr><tr><td>Philadelphia[8]</td><td>1560297</td></tr><tr><td>Phoenix</td><td>1537058</td></tr><tr><td>San Antonio</td><td>1436697</td></tr><tr><td>San Diego</td><td>1381069</td></tr><tr><td>Dallas</td><td>1281047</td></tr><tr><td>San Jose</td><td>1015785</td></tr></tbody></table></div>"
      ]
     },
     "metadata": {
      "application/vnd.databricks.v1+output": {
       "addedWidgets": {},
       "aggData": [],
       "aggError": "",
       "aggOverflow": false,
       "aggSchema": [],
       "aggSeriesLimitReached": false,
       "aggType": "",
       "arguments": {},
       "columnCustomDisplayInfos": {},
       "data": [
        [
         "New York[6]",
         8491079
        ],
        [
         "Los Angeles",
         3928864
        ],
        [
         "Chicago",
         2722389
        ],
        [
         "Houston[7]",
         2239558
        ],
        [
         "Philadelphia[8]",
         1560297
        ],
        [
         "Phoenix",
         1537058
        ],
        [
         "San Antonio",
         1436697
        ],
        [
         "San Diego",
         1381069
        ],
        [
         "Dallas",
         1281047
        ],
        [
         "San Jose",
         1015785
        ]
       ],
       "datasetInfos": [],
       "dbfsResultPath": null,
       "isJsonSchema": true,
       "metadata": {},
       "overflow": false,
       "plotOptions": {
        "customPlotOptions": {},
        "displayType": "table",
        "pivotAggregation": null,
        "pivotColumns": null,
        "xColumns": null,
        "yColumns": null
       },
       "removedWidgets": [],
       "schema": [
        {
         "metadata": "{}",
         "name": "City",
         "type": "\"string\""
        },
        {
         "metadata": "{}",
         "name": "Population",
         "type": "\"long\""
        }
       ],
       "type": "table"
      }
     },
     "output_type": "display_data"
    },
    {
     "output_type": "display_data",
     "data": {
      "text/plain": [
       "Databricks visualization. Run in Databricks to view."
      ]
     },
     "metadata": {
      "application/vnd.databricks.v1.subcommand+json": {
       "baseErrorDetails": null,
       "bindings": {},
       "collapsed": false,
       "command": "%python\n__backend_agg_display_orig = display\n__backend_agg_dfs = []\ndef __backend_agg_display_new(df):\n    __backend_agg_df_modules = [\"pandas.core.frame\", \"databricks.koalas.frame\", \"pyspark.sql.dataframe\", \"pyspark.pandas.frame\", \"pyspark.sql.connect.dataframe\"]\n    if (type(df).__module__ in __backend_agg_df_modules and type(df).__name__ == 'DataFrame') or isinstance(df, list):\n        __backend_agg_dfs.append(df)\n\ndisplay = __backend_agg_display_new\n\ndef __backend_agg_user_code_fn():\n    import base64\n    exec(base64.standard_b64decode(\"ZnJvbSBweXNwYXJrLnNxbC5mdW5jdGlvbnMgaW1wb3J0ICoKZGlzcGxheShkZl9zZWxlY3RlZC5ncm91cEJ5KCdDaXR5JykuYWdnKHN1bSgnMjAxNCBQb3B1bGF0aW9uIGVzdGltYXRlJykuYWxpYXMoJ1BvcHVsYXRpb24nKSkub3JkZXJCeShkZXNjKCdQb3B1bGF0aW9uJykpLmxpbWl0KDEwKSk=\").decode())\n\ntry:\n    # run user code\n    __backend_agg_user_code_fn()\n\n    #reset display function\n    display = __backend_agg_display_orig\n\n    if len(__backend_agg_dfs) > 0:\n        # create a temp view\n        if type(__backend_agg_dfs[0]).__module__ == \"databricks.koalas.frame\":\n            # koalas dataframe\n            __backend_agg_dfs[0].to_spark().createOrReplaceTempView(\"DatabricksView4b47de1\")\n        elif type(__backend_agg_dfs[0]).__module__ == \"pandas.core.frame\" or isinstance(__backend_agg_dfs[0], list):\n            # pandas dataframe\n            spark.createDataFrame(__backend_agg_dfs[0]).createOrReplaceTempView(\"DatabricksView4b47de1\")\n        else:\n            __backend_agg_dfs[0].createOrReplaceTempView(\"DatabricksView4b47de1\")\n        #run backend agg\n        display(spark.sql(\"\"\"WITH q AS (select * from DatabricksView4b47de1) SELECT `City`,SUM(`Population`) `column_217457ab129` FROM q GROUP BY `City`\"\"\"))\n    else:\n        displayHTML(\"dataframe no longer exists. If you're using dataframe.display(), use display(dataframe) instead.\")\n\n\nfinally:\n    spark.sql(\"drop view if exists DatabricksView4b47de1\")\n    display = __backend_agg_display_orig\n    del __backend_agg_display_new\n    del __backend_agg_display_orig\n    del __backend_agg_dfs\n    del __backend_agg_user_code_fn\n\n",
       "commandTitle": "Visualization 1",
       "commandType": "auto",
       "commandVersion": 0,
       "commentThread": [],
       "commentsVisible": false,
       "contentSha256Hex": null,
       "customPlotOptions": {
        "redashChart": [
         {
          "key": "type",
          "value": "CHART"
         },
         {
          "key": "options",
          "value": {
           "alignYAxesAtZero": true,
           "coefficient": 1,
           "columnConfigurationMap": {
            "x": {
             "column": "City",
             "id": "column_217457ab128"
            },
            "y": [
             {
              "column": "Population",
              "id": "column_217457ab129",
              "transform": "SUM"
             }
            ]
           },
           "dateTimeFormat": "DD/MM/YYYY HH:mm",
           "direction": {
            "type": "counterclockwise"
           },
           "error_y": {
            "type": "data",
            "visible": true
           },
           "globalSeriesType": "column",
           "legend": {
            "traceorder": "normal"
           },
           "missingValuesAsZero": true,
           "numberFormat": "0,0.[00000]",
           "percentFormat": "0[.]00%",
           "series": {
            "error_y": {
             "type": "data",
             "visible": true
            },
            "stacking": null
           },
           "seriesOptions": {
            "column_217457ab129": {
             "name": "Population",
             "yAxis": 0
            }
           },
           "showDataLabels": false,
           "sizemode": "diameter",
           "sortX": true,
           "sortY": true,
           "swappedAxes": true,
           "textFormat": "",
           "useAggregationsUi": true,
           "valuesOptions": {},
           "version": 2,
           "xAxis": {
            "labels": {
             "enabled": true
            },
            "type": "-"
           },
           "yAxis": [
            {
             "type": "-"
            },
            {
             "opposite": true,
             "type": "-"
            }
           ]
          }
         }
        ]
       },
       "datasetPreviewNameToCmdIdMap": {},
       "diffDeletes": [],
       "diffInserts": [],
       "displayType": "redashChart",
       "error": null,
       "errorDetails": null,
       "errorSummary": null,
       "errorTraceType": null,
       "finishTime": 0,
       "globalVars": {},
       "guid": "",
       "height": "auto",
       "hideCommandCode": false,
       "hideCommandResult": false,
       "iPythonMetadata": null,
       "inputWidgets": {},
       "isLockedInExamMode": false,
       "latestUser": "a user",
       "latestUserId": null,
       "listResultMetadata": null,
       "metadata": {
        "byteLimit": 2048000,
        "rowLimit": 10000
       },
       "nuid": "b11cbb5c-ce18-4b7a-93e8-cf4e99bfdfcf",
       "origId": 0,
       "parentHierarchy": [],
       "pivotAggregation": null,
       "pivotColumns": null,
       "position": 5.0,
       "resultDbfsErrorMessage": null,
       "resultDbfsStatus": "INLINED_IN_TREE",
       "results": null,
       "showCommandTitle": false,
       "startTime": 0,
       "state": "finished",
       "streamStates": {},
       "subcommandOptions": {
        "queryPlan": {
         "groups": [
          {
           "column": "City",
           "type": "column"
          }
         ],
         "selects": [
          {
           "column": "City",
           "type": "column"
          },
          {
           "alias": "column_217457ab129",
           "args": [
            {
             "column": "Population",
             "type": "column"
            }
           ],
           "function": "SUM",
           "type": "function"
          }
         ]
        }
       },
       "submitTime": 0,
       "subtype": "tableResultSubCmd.visualization",
       "tableResultIndex": 0,
       "tableResultSettingsMap": {},
       "useConsistentColors": false,
       "version": "CommandV1",
       "width": "auto",
       "workflows": [],
       "xColumns": null,
       "yColumns": null
      }
     },
     "output_type": "display_data"
    }
   ],
   "source": [
    "from pyspark.sql.functions import *\n",
    "display(df_selected.groupBy('City').agg(sum('2014 Population estimate').alias('Population')).orderBy(desc('Population')).limit(10))"
   ]
  },
  {
   "cell_type": "markdown",
   "metadata": {
    "application/vnd.databricks.v1+cell": {
     "cellMetadata": {
      "byteLimit": 2048000,
      "rowLimit": 10000
     },
     "inputWidgets": {},
     "nuid": "4a1400d4-785b-45c7-9393-6d92a622458f",
     "showTitle": false,
     "tableResultSettingsMap": {},
     "title": ""
    }
   },
   "source": [
    "## Scenario 2: Average median sales price by State"
   ]
  },
  {
   "cell_type": "code",
   "execution_count": 0,
   "metadata": {
    "application/vnd.databricks.v1+cell": {
     "cellMetadata": {
      "byteLimit": 2048000,
      "rowLimit": 10000
     },
     "inputWidgets": {},
     "nuid": "7aa807b2-91d3-42b9-96c0-0c6f2fe2ed96",
     "showTitle": false,
     "tableResultSettingsMap": {},
     "title": ""
    }
   },
   "outputs": [
    {
     "output_type": "stream",
     "name": "stdout",
     "output_type": "stream",
     "text": [
      "+--------------------+--------------------+\n|               State|Average Median Sales|\n+--------------------+--------------------+\n|             Hawai'i|               699.3|\n|          California|   547.9714285714286|\n|District of Columbia|               367.8|\n|          New Jersey|               350.8|\n|            Colorado|  333.46666666666664|\n|          Washington|  266.29999999999995|\n|       Massachusetts|               261.8|\n|         Connecticut|  250.13333333333333|\n|                Utah|               243.3|\n|       New Hampshire|               237.4|\n|              Nevada|               237.3|\n|        Rhode Island|               233.3|\n|              Oregon|  231.53333333333333|\n|            Maryland|               223.1|\n|           Wisconsin|               210.8|\n|           Minnesota|               209.4|\n|            Virginia|              201.25|\n|             Arizona|               192.1|\n|            New York|             185.775|\n|        Pennsylvania|               183.8|\n+--------------------+--------------------+\nonly showing top 20 rows\n\n"
     ]
    },
    {
     "output_type": "display_data",
     "data": {
      "text/html": [
       "<style scoped>\n",
       "  .table-result-container {\n",
       "    max-height: 300px;\n",
       "    overflow: auto;\n",
       "  }\n",
       "  table, th, td {\n",
       "    border: 1px solid black;\n",
       "    border-collapse: collapse;\n",
       "  }\n",
       "  th, td {\n",
       "    padding: 5px;\n",
       "  }\n",
       "  th {\n",
       "    text-align: left;\n",
       "  }\n",
       "</style><div class='table-result-container'><table class='table-result'><thead style='background-color: white'><tr><th>State</th><th>Average Median Sales</th></tr></thead><tbody><tr><td>Hawai'i</td><td>699.3</td></tr><tr><td>California</td><td>547.9714285714286</td></tr><tr><td>District of Columbia</td><td>367.8</td></tr><tr><td>New Jersey</td><td>350.8</td></tr><tr><td>Colorado</td><td>333.46666666666664</td></tr><tr><td>Washington</td><td>266.29999999999995</td></tr><tr><td>Massachusetts</td><td>261.8</td></tr><tr><td>Connecticut</td><td>250.13333333333333</td></tr><tr><td>Utah</td><td>243.3</td></tr><tr><td>New Hampshire</td><td>237.4</td></tr><tr><td>Nevada</td><td>237.3</td></tr><tr><td>Rhode Island</td><td>233.3</td></tr><tr><td>Oregon</td><td>231.53333333333333</td></tr><tr><td>Maryland</td><td>223.1</td></tr><tr><td>Wisconsin</td><td>210.8</td></tr><tr><td>Minnesota</td><td>209.4</td></tr><tr><td>Virginia</td><td>201.25</td></tr><tr><td>Arizona</td><td>192.1</td></tr><tr><td>New York</td><td>185.775</td></tr><tr><td>Pennsylvania</td><td>183.8</td></tr><tr><td>North Dakota</td><td>180.0</td></tr><tr><td>Florida</td><td>178.77777777777777</td></tr><tr><td>Idaho</td><td>178.7</td></tr><tr><td>North Carolina</td><td>176.05714285714288</td></tr><tr><td>Texas</td><td>173.4777777777778</td></tr><tr><td>New Mexico</td><td>172.2</td></tr><tr><td>Louisiana</td><td>164.39999999999998</td></tr><tr><td>South Dakota</td><td>159.5</td></tr><tr><td>Georgia</td><td>158.0</td></tr><tr><td>Mississippi</td><td>154.1</td></tr><tr><td>Tennessee</td><td>152.825</td></tr><tr><td>Nebraska</td><td>149.14999999999998</td></tr><tr><td>Oklahoma</td><td>145.1</td></tr><tr><td>Alabama</td><td>143.025</td></tr><tr><td>Kentucky</td><td>141.14999999999998</td></tr><tr><td>Missouri</td><td>134.75</td></tr><tr><td>Iowa</td><td>133.15</td></tr><tr><td>Arkansas</td><td>131.8</td></tr><tr><td>Illinois</td><td>122.87499999999999</td></tr><tr><td>Indiana</td><td>122.75</td></tr><tr><td>Kansas</td><td>115.65</td></tr><tr><td>Michigan</td><td>114.6</td></tr><tr><td>Ohio</td><td>112.86666666666667</td></tr><tr><td>Alaska</td><td>null</td></tr><tr><td>Montana</td><td>null</td></tr><tr><td>South Carolina</td><td>null</td></tr></tbody></table></div>"
      ]
     },
     "metadata": {
      "application/vnd.databricks.v1+output": {
       "addedWidgets": {},
       "aggData": [],
       "aggError": "",
       "aggOverflow": false,
       "aggSchema": [],
       "aggSeriesLimitReached": false,
       "aggType": "",
       "arguments": {},
       "columnCustomDisplayInfos": {},
       "data": [
        [
         "Hawai'i",
         699.3
        ],
        [
         "California",
         547.9714285714286
        ],
        [
         "District of Columbia",
         367.8
        ],
        [
         "New Jersey",
         350.8
        ],
        [
         "Colorado",
         333.46666666666664
        ],
        [
         "Washington",
         266.29999999999995
        ],
        [
         "Massachusetts",
         261.8
        ],
        [
         "Connecticut",
         250.13333333333333
        ],
        [
         "Utah",
         243.3
        ],
        [
         "New Hampshire",
         237.4
        ],
        [
         "Nevada",
         237.3
        ],
        [
         "Rhode Island",
         233.3
        ],
        [
         "Oregon",
         231.53333333333333
        ],
        [
         "Maryland",
         223.1
        ],
        [
         "Wisconsin",
         210.8
        ],
        [
         "Minnesota",
         209.4
        ],
        [
         "Virginia",
         201.25
        ],
        [
         "Arizona",
         192.1
        ],
        [
         "New York",
         185.775
        ],
        [
         "Pennsylvania",
         183.8
        ],
        [
         "North Dakota",
         180.0
        ],
        [
         "Florida",
         178.77777777777777
        ],
        [
         "Idaho",
         178.7
        ],
        [
         "North Carolina",
         176.05714285714288
        ],
        [
         "Texas",
         173.4777777777778
        ],
        [
         "New Mexico",
         172.2
        ],
        [
         "Louisiana",
         164.39999999999998
        ],
        [
         "South Dakota",
         159.5
        ],
        [
         "Georgia",
         158.0
        ],
        [
         "Mississippi",
         154.1
        ],
        [
         "Tennessee",
         152.825
        ],
        [
         "Nebraska",
         149.14999999999998
        ],
        [
         "Oklahoma",
         145.1
        ],
        [
         "Alabama",
         143.025
        ],
        [
         "Kentucky",
         141.14999999999998
        ],
        [
         "Missouri",
         134.75
        ],
        [
         "Iowa",
         133.15
        ],
        [
         "Arkansas",
         131.8
        ],
        [
         "Illinois",
         122.87499999999999
        ],
        [
         "Indiana",
         122.75
        ],
        [
         "Kansas",
         115.65
        ],
        [
         "Michigan",
         114.6
        ],
        [
         "Ohio",
         112.86666666666667
        ],
        [
         "Alaska",
         null
        ],
        [
         "Montana",
         null
        ],
        [
         "South Carolina",
         null
        ]
       ],
       "datasetInfos": [],
       "dbfsResultPath": null,
       "isJsonSchema": true,
       "metadata": {},
       "overflow": false,
       "plotOptions": {
        "customPlotOptions": {},
        "displayType": "table",
        "pivotAggregation": null,
        "pivotColumns": null,
        "xColumns": null,
        "yColumns": null
       },
       "removedWidgets": [],
       "schema": [
        {
         "metadata": "{}",
         "name": "State",
         "type": "\"string\""
        },
        {
         "metadata": "{}",
         "name": "Average Median Sales",
         "type": "\"double\""
        }
       ],
       "type": "table"
      }
     },
     "output_type": "display_data"
    },
    {
     "output_type": "display_data",
     "data": {
      "text/plain": [
       "Databricks visualization. Run in Databricks to view."
      ]
     },
     "metadata": {
      "application/vnd.databricks.v1.subcommand+json": {
       "baseErrorDetails": null,
       "bindings": {},
       "collapsed": false,
       "command": "%python\n__backend_agg_display_orig = display\n__backend_agg_dfs = []\ndef __backend_agg_display_new(df):\n    __backend_agg_df_modules = [\"pandas.core.frame\", \"databricks.koalas.frame\", \"pyspark.sql.dataframe\", \"pyspark.pandas.frame\", \"pyspark.sql.connect.dataframe\"]\n    if (type(df).__module__ in __backend_agg_df_modules and type(df).__name__ == 'DataFrame') or isinstance(df, list):\n        __backend_agg_dfs.append(df)\n\ndisplay = __backend_agg_display_new\n\ndef __backend_agg_user_code_fn():\n    import base64\n    exec(base64.standard_b64decode(\"ZnJvbSBweXNwYXJrLnNxbC5mdW5jdGlvbnMgaW1wb3J0ICoKZGZfc2VsZWN0ZWQuZ3JvdXBCeSgnU3RhdGUnKS5hZ2coYXZnKCcyMDE1IG1lZGlhbiBzYWxlcyBwcmljZScpLmFsaWFzKCdBdmVyYWdlIE1lZGlhbiBTYWxlcycpKS5vcmRlckJ5KGRlc2MoJ0F2ZXJhZ2UgTWVkaWFuIFNhbGVzJykpLnNob3coKQpkaXNwbGF5KGRmX3NlbGVjdGVkLmdyb3VwQnkoJ1N0YXRlJykuYWdnKGF2ZygnMjAxNSBtZWRpYW4gc2FsZXMgcHJpY2UnKS5hbGlhcygnQXZlcmFnZSBNZWRpYW4gU2FsZXMnKSkub3JkZXJCeShkZXNjKCdBdmVyYWdlIE1lZGlhbiBTYWxlcycpKSk=\").decode())\n\ntry:\n    # run user code\n    __backend_agg_user_code_fn()\n\n    #reset display function\n    display = __backend_agg_display_orig\n\n    if len(__backend_agg_dfs) > 0:\n        # create a temp view\n        if type(__backend_agg_dfs[0]).__module__ == \"databricks.koalas.frame\":\n            # koalas dataframe\n            __backend_agg_dfs[0].to_spark().createOrReplaceTempView(\"DatabricksView08c089d\")\n        elif type(__backend_agg_dfs[0]).__module__ == \"pandas.core.frame\" or isinstance(__backend_agg_dfs[0], list):\n            # pandas dataframe\n            spark.createDataFrame(__backend_agg_dfs[0]).createOrReplaceTempView(\"DatabricksView08c089d\")\n        else:\n            __backend_agg_dfs[0].createOrReplaceTempView(\"DatabricksView08c089d\")\n        #run backend agg\n        display(spark.sql(\"\"\"WITH q AS (select * from DatabricksView08c089d) SELECT `State`,AVG(`Average Median Sales`) `column_217457ab135` FROM q GROUP BY `State`\"\"\"))\n    else:\n        displayHTML(\"dataframe no longer exists. If you're using dataframe.display(), use display(dataframe) instead.\")\n\n\nfinally:\n    spark.sql(\"drop view if exists DatabricksView08c089d\")\n    display = __backend_agg_display_orig\n    del __backend_agg_display_new\n    del __backend_agg_display_orig\n    del __backend_agg_dfs\n    del __backend_agg_user_code_fn\n\n",
       "commandTitle": "Visualization 1",
       "commandType": "auto",
       "commandVersion": 0,
       "commentThread": [],
       "commentsVisible": false,
       "contentSha256Hex": null,
       "customPlotOptions": {
        "redashChart": [
         {
          "key": "type",
          "value": "CHART"
         },
         {
          "key": "options",
          "value": {
           "alignYAxesAtZero": true,
           "coefficient": 1,
           "columnConfigurationMap": {
            "x": {
             "column": "State",
             "id": "column_217457ab137"
            },
            "y": [
             {
              "column": "Average Median Sales",
              "id": "column_217457ab135",
              "transform": "AVG"
             }
            ]
           },
           "dateTimeFormat": "DD/MM/YYYY HH:mm",
           "direction": {
            "type": "counterclockwise"
           },
           "error_y": {
            "type": "data",
            "visible": true
           },
           "globalSeriesType": "column",
           "isAggregationOn": true,
           "legend": {
            "traceorder": "normal"
           },
           "missingValuesAsZero": true,
           "numberFormat": "0,0.[00000]",
           "percentFormat": "0[.]00%",
           "series": {
            "error_y": {
             "type": "data",
             "visible": true
            },
            "percentValues": false,
            "stacking": null
           },
           "seriesOptions": {
            "column_217457ab135": {
             "type": "column",
             "yAxis": 0
            }
           },
           "showDataLabels": false,
           "sizemode": "diameter",
           "sortX": true,
           "sortY": true,
           "swappedAxes": true,
           "textFormat": "",
           "useAggregationsUi": true,
           "valuesOptions": {},
           "version": 2,
           "xAxis": {
            "labels": {
             "enabled": true
            },
            "type": "-"
           },
           "yAxis": [
            {
             "type": "-"
            },
            {
             "opposite": true,
             "type": "-"
            }
           ]
          }
         }
        ]
       },
       "datasetPreviewNameToCmdIdMap": {},
       "diffDeletes": [],
       "diffInserts": [],
       "displayType": "redashChart",
       "error": null,
       "errorDetails": null,
       "errorSummary": null,
       "errorTraceType": null,
       "finishTime": 0,
       "globalVars": {},
       "guid": "",
       "height": "auto",
       "hideCommandCode": false,
       "hideCommandResult": false,
       "iPythonMetadata": null,
       "inputWidgets": {},
       "isLockedInExamMode": false,
       "latestUser": "a user",
       "latestUserId": null,
       "listResultMetadata": null,
       "metadata": {
        "byteLimit": 2048000,
        "rowLimit": 10000
       },
       "nuid": "dd4a91dd-5580-4572-89cd-1a7a3c9a59e1",
       "origId": 0,
       "parentHierarchy": [],
       "pivotAggregation": null,
       "pivotColumns": null,
       "position": 6.0,
       "resultDbfsErrorMessage": null,
       "resultDbfsStatus": "INLINED_IN_TREE",
       "results": null,
       "showCommandTitle": false,
       "startTime": 0,
       "state": "finished",
       "streamStates": {},
       "subcommandOptions": {
        "queryPlan": {
         "groups": [
          {
           "column": "State",
           "type": "column"
          }
         ],
         "selects": [
          {
           "column": "State",
           "type": "column"
          },
          {
           "alias": "column_217457ab135",
           "args": [
            {
             "column": "Average Median Sales",
             "type": "column"
            }
           ],
           "function": "AVG",
           "type": "function"
          }
         ]
        }
       },
       "submitTime": 0,
       "subtype": "tableResultSubCmd.visualization",
       "tableResultIndex": 0,
       "tableResultSettingsMap": {},
       "useConsistentColors": false,
       "version": "CommandV1",
       "width": "auto",
       "workflows": [],
       "xColumns": null,
       "yColumns": null
      }
     },
     "output_type": "display_data"
    }
   ],
   "source": [
    "from pyspark.sql.functions import *\n",
    "df_selected.groupBy('State').agg(avg('2015 median sales price').alias('Average Median Sales')).orderBy(desc('Average Median Sales')).show()\n",
    "display(df_selected.groupBy('State').agg(avg('2015 median sales price').alias('Average Median Sales')).orderBy(desc('Average Median Sales')))"
   ]
  },
  {
   "cell_type": "markdown",
   "metadata": {
    "application/vnd.databricks.v1+cell": {
     "cellMetadata": {
      "byteLimit": 2048000,
      "rowLimit": 10000
     },
     "inputWidgets": {},
     "nuid": "a005f777-4da6-4509-8d90-104215233d19",
     "showTitle": false,
     "tableResultSettingsMap": {},
     "title": ""
    }
   },
   "source": [
    "## Scenario 3: Filter cities with population > 1 million"
   ]
  },
  {
   "cell_type": "code",
   "execution_count": 0,
   "metadata": {
    "application/vnd.databricks.v1+cell": {
     "cellMetadata": {
      "byteLimit": 2048000,
      "rowLimit": 10000
     },
     "inputWidgets": {},
     "nuid": "35afee8d-7da9-4c17-94bb-baa131acaa52",
     "showTitle": false,
     "tableResultSettingsMap": {},
     "title": ""
    }
   },
   "outputs": [
    {
     "output_type": "stream",
     "name": "stdout",
     "output_type": "stream",
     "text": [
      "+---------------+----------+\n|           City|Population|\n+---------------+----------+\n|    New York[6]|   8491079|\n|    Los Angeles|   3928864|\n|        Chicago|   2722389|\n|     Houston[7]|   2239558|\n|Philadelphia[8]|   1560297|\n|        Phoenix|   1537058|\n|    San Antonio|   1436697|\n|      San Diego|   1381069|\n|         Dallas|   1281047|\n|       San Jose|   1015785|\n+---------------+----------+\n\n"
     ]
    },
    {
     "output_type": "display_data",
     "data": {
      "text/html": [
       "<style scoped>\n",
       "  .table-result-container {\n",
       "    max-height: 300px;\n",
       "    overflow: auto;\n",
       "  }\n",
       "  table, th, td {\n",
       "    border: 1px solid black;\n",
       "    border-collapse: collapse;\n",
       "  }\n",
       "  th, td {\n",
       "    padding: 5px;\n",
       "  }\n",
       "  th {\n",
       "    text-align: left;\n",
       "  }\n",
       "</style><div class='table-result-container'><table class='table-result'><thead style='background-color: white'><tr><th>City</th><th>Population</th></tr></thead><tbody><tr><td>New York[6]</td><td>8491079</td></tr><tr><td>Los Angeles</td><td>3928864</td></tr><tr><td>Chicago</td><td>2722389</td></tr><tr><td>Houston[7]</td><td>2239558</td></tr><tr><td>Philadelphia[8]</td><td>1560297</td></tr><tr><td>Phoenix</td><td>1537058</td></tr><tr><td>San Antonio</td><td>1436697</td></tr><tr><td>San Diego</td><td>1381069</td></tr><tr><td>Dallas</td><td>1281047</td></tr><tr><td>San Jose</td><td>1015785</td></tr></tbody></table></div>"
      ]
     },
     "metadata": {
      "application/vnd.databricks.v1+output": {
       "addedWidgets": {},
       "aggData": [],
       "aggError": "",
       "aggOverflow": false,
       "aggSchema": [],
       "aggSeriesLimitReached": false,
       "aggType": "",
       "arguments": {},
       "columnCustomDisplayInfos": {},
       "data": [
        [
         "New York[6]",
         8491079
        ],
        [
         "Los Angeles",
         3928864
        ],
        [
         "Chicago",
         2722389
        ],
        [
         "Houston[7]",
         2239558
        ],
        [
         "Philadelphia[8]",
         1560297
        ],
        [
         "Phoenix",
         1537058
        ],
        [
         "San Antonio",
         1436697
        ],
        [
         "San Diego",
         1381069
        ],
        [
         "Dallas",
         1281047
        ],
        [
         "San Jose",
         1015785
        ]
       ],
       "datasetInfos": [],
       "dbfsResultPath": null,
       "isJsonSchema": true,
       "metadata": {},
       "overflow": false,
       "plotOptions": {
        "customPlotOptions": {},
        "displayType": "table",
        "pivotAggregation": null,
        "pivotColumns": null,
        "xColumns": null,
        "yColumns": null
       },
       "removedWidgets": [],
       "schema": [
        {
         "metadata": "{}",
         "name": "City",
         "type": "\"string\""
        },
        {
         "metadata": "{}",
         "name": "Population",
         "type": "\"long\""
        }
       ],
       "type": "table"
      }
     },
     "output_type": "display_data"
    },
    {
     "output_type": "display_data",
     "data": {
      "text/plain": [
       "Databricks visualization. Run in Databricks to view."
      ]
     },
     "metadata": {
      "application/vnd.databricks.v1.subcommand+json": {
       "baseErrorDetails": null,
       "bindings": {},
       "collapsed": false,
       "command": "%python\n__backend_agg_display_orig = display\n__backend_agg_dfs = []\ndef __backend_agg_display_new(df):\n    __backend_agg_df_modules = [\"pandas.core.frame\", \"databricks.koalas.frame\", \"pyspark.sql.dataframe\", \"pyspark.pandas.frame\", \"pyspark.sql.connect.dataframe\"]\n    if (type(df).__module__ in __backend_agg_df_modules and type(df).__name__ == 'DataFrame') or isinstance(df, list):\n        __backend_agg_dfs.append(df)\n\ndisplay = __backend_agg_display_new\n\ndef __backend_agg_user_code_fn():\n    import base64\n    exec(base64.standard_b64decode(\"CmRmX3NlbGVjdGVkLmdyb3VwQnkoJ0NpdHknKS5hZ2coc3VtKCcyMDE0IFBvcHVsYXRpb24gZXN0aW1hdGUnKS5hbGlhcygnUG9wdWxhdGlvbicpKS5maWx0ZXIoY29sKCdQb3B1bGF0aW9uJyk+MTAwMDAwMCkub3JkZXJCeShkZXNjKCdQb3B1bGF0aW9uJykpLnNob3coKQpkaXNwbGF5KGRmX3NlbGVjdGVkLmdyb3VwQnkoJ0NpdHknKS5hZ2coc3VtKCcyMDE0IFBvcHVsYXRpb24gZXN0aW1hdGUnKS5hbGlhcygnUG9wdWxhdGlvbicpKS5maWx0ZXIoY29sKCdQb3B1bGF0aW9uJyk+MTAwMDAwMCkub3JkZXJCeShkZXNjKCdQb3B1bGF0aW9uJykpKQ==\").decode())\n\ntry:\n    # run user code\n    __backend_agg_user_code_fn()\n\n    #reset display function\n    display = __backend_agg_display_orig\n\n    if len(__backend_agg_dfs) > 0:\n        # create a temp view\n        if type(__backend_agg_dfs[0]).__module__ == \"databricks.koalas.frame\":\n            # koalas dataframe\n            __backend_agg_dfs[0].to_spark().createOrReplaceTempView(\"DatabricksView4f586b9\")\n        elif type(__backend_agg_dfs[0]).__module__ == \"pandas.core.frame\" or isinstance(__backend_agg_dfs[0], list):\n            # pandas dataframe\n            spark.createDataFrame(__backend_agg_dfs[0]).createOrReplaceTempView(\"DatabricksView4f586b9\")\n        else:\n            __backend_agg_dfs[0].createOrReplaceTempView(\"DatabricksView4f586b9\")\n        #run backend agg\n        display(spark.sql(\"\"\"WITH q AS (select * from DatabricksView4f586b9) SELECT `City`,SUM(`Population`) `column_e115f5ae23` FROM q GROUP BY `City`\"\"\"))\n    else:\n        displayHTML(\"dataframe no longer exists. If you're using dataframe.display(), use display(dataframe) instead.\")\n\n\nfinally:\n    spark.sql(\"drop view if exists DatabricksView4f586b9\")\n    display = __backend_agg_display_orig\n    del __backend_agg_display_new\n    del __backend_agg_display_orig\n    del __backend_agg_dfs\n    del __backend_agg_user_code_fn\n\n",
       "commandTitle": "Visualization 1",
       "commandType": "auto",
       "commandVersion": 0,
       "commentThread": [],
       "commentsVisible": false,
       "contentSha256Hex": null,
       "customPlotOptions": {
        "redashChart": [
         {
          "key": "type",
          "value": "CHART"
         },
         {
          "key": "options",
          "value": {
           "alignYAxesAtZero": true,
           "coefficient": 1,
           "columnConfigurationMap": {
            "x": {
             "column": "City",
             "id": "column_e115f5ae22"
            },
            "y": [
             {
              "column": "Population",
              "id": "column_e115f5ae23",
              "transform": "SUM"
             }
            ]
           },
           "dateTimeFormat": "DD/MM/YYYY HH:mm",
           "direction": {
            "type": "counterclockwise"
           },
           "error_y": {
            "type": "data",
            "visible": true
           },
           "globalSeriesType": "column",
           "legend": {
            "traceorder": "normal"
           },
           "missingValuesAsZero": true,
           "numberFormat": "0,0.[00000]",
           "percentFormat": "0[.]00%",
           "series": {
            "error_y": {
             "type": "data",
             "visible": true
            },
            "stacking": null
           },
           "seriesOptions": {
            "column_e115f5ae23": {
             "name": "Population",
             "yAxis": 0
            }
           },
           "showDataLabels": false,
           "sizemode": "diameter",
           "sortX": true,
           "sortY": true,
           "swappedAxes": true,
           "textFormat": "",
           "useAggregationsUi": true,
           "valuesOptions": {},
           "version": 2,
           "xAxis": {
            "labels": {
             "enabled": true
            },
            "type": "-"
           },
           "yAxis": [
            {
             "type": "-"
            },
            {
             "opposite": true,
             "type": "-"
            }
           ]
          }
         }
        ]
       },
       "datasetPreviewNameToCmdIdMap": {},
       "diffDeletes": [],
       "diffInserts": [],
       "displayType": "redashChart",
       "error": null,
       "errorDetails": null,
       "errorSummary": null,
       "errorTraceType": null,
       "finishTime": 0,
       "globalVars": {},
       "guid": "",
       "height": "auto",
       "hideCommandCode": false,
       "hideCommandResult": false,
       "iPythonMetadata": null,
       "inputWidgets": {},
       "isLockedInExamMode": false,
       "latestUser": "a user",
       "latestUserId": null,
       "listResultMetadata": null,
       "metadata": {},
       "nuid": "a8098200-b52b-4785-a99b-3352f1ce99c0",
       "origId": 0,
       "parentHierarchy": [],
       "pivotAggregation": null,
       "pivotColumns": null,
       "position": 8.0,
       "resultDbfsErrorMessage": null,
       "resultDbfsStatus": "INLINED_IN_TREE",
       "results": null,
       "showCommandTitle": false,
       "startTime": 0,
       "state": "input",
       "streamStates": {},
       "subcommandOptions": {
        "queryPlan": {
         "groups": [
          {
           "column": "City",
           "type": "column"
          }
         ],
         "selects": [
          {
           "column": "City",
           "type": "column"
          },
          {
           "alias": "column_e115f5ae23",
           "args": [
            {
             "column": "Population",
             "type": "column"
            }
           ],
           "function": "SUM",
           "type": "function"
          }
         ]
        }
       },
       "submitTime": 0,
       "subtype": "tableResultSubCmd.visualization",
       "tableResultIndex": 0,
       "tableResultSettingsMap": {},
       "useConsistentColors": false,
       "version": "CommandV1",
       "width": "auto",
       "workflows": [],
       "xColumns": null,
       "yColumns": null
      }
     },
     "output_type": "display_data"
    }
   ],
   "source": [
    "\n",
    "df_selected.groupBy('City').agg(sum('2014 Population estimate').alias('Population')).filter(col('Population')>1000000).orderBy(desc('Population')).show()\n",
    "display(df_selected.groupBy('City').agg(sum('2014 Population estimate').alias('Population')).filter(col('Population')>1000000).orderBy(desc('Population')))"
   ]
  },
  {
   "cell_type": "markdown",
   "metadata": {
    "application/vnd.databricks.v1+cell": {
     "cellMetadata": {},
     "inputWidgets": {},
     "nuid": "a1a6fa5d-d98f-4b7d-9558-f583d7c11381",
     "showTitle": false,
     "tableResultSettingsMap": {},
     "title": ""
    }
   },
   "source": [
    "## Scenario 4: Identify cities with missing or zero price values"
   ]
  },
  {
   "cell_type": "code",
   "execution_count": 0,
   "metadata": {
    "application/vnd.databricks.v1+cell": {
     "cellMetadata": {
      "byteLimit": 2048000,
      "rowLimit": 10000
     },
     "inputWidgets": {},
     "nuid": "658eca4b-2586-4610-8f92-4ec04eab24dc",
     "showTitle": false,
     "tableResultSettingsMap": {},
     "title": ""
    }
   },
   "outputs": [
    {
     "output_type": "stream",
     "name": "stdout",
     "output_type": "stream",
     "text": [
      "+-------------+----------+----------+------------------------+-----------------------+\n|         City|     State|State Code|2014 Population estimate|2015 median sales price|\n+-------------+----------+----------+------------------------+-----------------------+\n|Anchorage[19]|    Alaska|        AK|                  301010|                   null|\n|     Chandler|   Arizona|        AZ|                  254276|                   null|\n|  Gilbert[20]|   Arizona|        AZ|                  239277|                   null|\n|     Glendale|   Arizona|        AZ|                  237517|                   null|\n|         Mesa|   Arizona|        AZ|                  464704|                   null|\n|       Peoria|   Arizona|        AZ|                  166934|                   null|\n|   Scottsdale|   Arizona|        AZ|                  230512|                   null|\n|     Surprise|   Arizona|        AZ|                  126275|                   null|\n|        Tempe|   Arizona|        AZ|                  172816|                   null|\n|      Antioch|California|        CA|                  108930|                   null|\n|  Bakersfield|California|        CA|                  368759|                   null|\n|     Berkeley|California|        CA|                  118853|                   null|\n|      Burbank|California|        CA|                  105368|                   null|\n|     Carlsbad|California|        CA|                  112299|                   null|\n|  Chula Vista|California|        CA|                  260988|                   null|\n|       Clovis|California|        CA|                  102189|                   null|\n|      Concord|California|        CA|                  127522|                   null|\n|       Corona|California|        CA|                  161486|                   null|\n|   Costa Mesa|California|        CA|                  112784|                   null|\n|    Daly City|California|        CA|                  106094|                   null|\n+-------------+----------+----------+------------------------+-----------------------+\nonly showing top 20 rows\n\n"
     ]
    }
   ],
   "source": [
    "df_selected.filter((df_selected['2015 median sales price'].isNull())| (df_selected['2015 median sales price']==0)).show()"
   ]
  },
  {
   "cell_type": "code",
   "execution_count": 0,
   "metadata": {
    "application/vnd.databricks.v1+cell": {
     "cellMetadata": {
      "byteLimit": 2048000,
      "rowLimit": 10000
     },
     "inputWidgets": {},
     "nuid": "9200aba2-7ce8-41eb-b37e-78e85ecf680f",
     "showTitle": false,
     "tableResultSettingsMap": {},
     "title": ""
    }
   },
   "outputs": [
    {
     "output_type": "stream",
     "name": "stdout",
     "output_type": "stream",
     "text": [
      "+------------------+--------------------+----------+------------------------+-----------------------+\n|              City|               State|State Code|2014 Population estimate|2015 median sales price|\n+------------------+--------------------+----------+------------------------+-----------------------+\n|        Birmingham|             Alabama|        AL|                  212247|                  162.9|\n|        Huntsville|             Alabama|        AL|                  188226|                  157.7|\n|            Mobile|             Alabama|        AL|                  194675|                  122.5|\n|        Montgomery|             Alabama|        AL|                  200481|                  129.0|\n|     Anchorage[19]|              Alaska|        AK|                  301010|                   null|\n|          Chandler|             Arizona|        AZ|                  254276|                   null|\n|       Gilbert[20]|             Arizona|        AZ|                  239277|                   null|\n|          Glendale|             Arizona|        AZ|                  237517|                   null|\n|              Mesa|             Arizona|        AZ|                  464704|                   null|\n|            Peoria|             Arizona|        AZ|                  166934|                   null|\n|           Phoenix|             Arizona|        AZ|                 1537058|                  206.1|\n|        Scottsdale|             Arizona|        AZ|                  230512|                   null|\n|          Surprise|             Arizona|        AZ|                  126275|                   null|\n|             Tempe|             Arizona|        AZ|                  172816|                   null|\n|            Tucson|             Arizona|        AZ|                  527972|                  178.1|\n|       Little Rock|            Arkansas|        AR|                  197706|                  131.8|\n|           Anaheim|          California|        CA|                  346997|                  685.7|\n|           Antioch|          California|        CA|                  108930|                   null|\n|       Bakersfield|          California|        CA|                  368759|                   null|\n|          Berkeley|          California|        CA|                  118853|                   null|\n|           Burbank|          California|        CA|                  105368|                   null|\n|          Carlsbad|          California|        CA|                  112299|                   null|\n|       Chula Vista|          California|        CA|                  260988|                   null|\n|            Clovis|          California|        CA|                  102189|                   null|\n|           Concord|          California|        CA|                  127522|                   null|\n|            Corona|          California|        CA|                  161486|                   null|\n|        Costa Mesa|          California|        CA|                  112784|                   null|\n|         Daly City|          California|        CA|                  106094|                   null|\n|            Downey|          California|        CA|                  114172|                   null|\n|          El Cajon|          California|        CA|                  103091|                   null|\n|          El Monte|          California|        CA|                  116631|                   null|\n|         Elk Grove|          California|        CA|                  163553|                   null|\n|         Escondido|          California|        CA|                  150243|                   null|\n|         Fairfield|          California|        CA|                  111125|                   null|\n|           Fontana|          California|        CA|                  204950|                   null|\n|           Fremont|          California|        CA|                  228758|                   null|\n|            Fresno|          California|        CA|                  515986|                   null|\n|         Fullerton|          California|        CA|                  139677|                   null|\n|      Garden Grove|          California|        CA|                  175078|                   null|\n|          Glendale|          California|        CA|                  200167|                   null|\n|           Hayward|          California|        CA|                  154612|                   null|\n|  Huntington Beach|          California|        CA|                  200809|                   null|\n|         Inglewood|          California|        CA|                  111905|                   null|\n|            Irvine|          California|        CA|                  248531|                   null|\n|         Lancaster|          California|        CA|                  161043|                   null|\n|        Long Beach|          California|        CA|                  473577|                   null|\n|       Los Angeles|          California|        CA|                 3928864|                  434.7|\n|           Modesto|          California|        CA|                  209286|                   null|\n|     Moreno Valley|          California|        CA|                  202976|                   null|\n|          Murrieta|          California|        CA|                  108368|                   null|\n|           Norwalk|          California|        CA|                  107096|                   null|\n|           Oakland|          California|        CA|                  413775|                   null|\n|         Oceanside|          California|        CA|                  174558|                   null|\n|           Ontario|          California|        CA|                  169089|                   null|\n|            Orange|          California|        CA|                  139812|                   null|\n|            Oxnard|          California|        CA|                  205437|                   null|\n|          Palmdale|          California|        CA|                  158279|                   null|\n|          Pasadena|          California|        CA|                  140881|                   null|\n|            Pomona|          California|        CA|                  153350|                   null|\n|  Rancho Cucamonga|          California|        CA|                  174305|                   null|\n|            Rialto|          California|        CA|                  102741|                   null|\n|          Richmond|          California|        CA|                  108565|                   null|\n|         Riverside|          California|        CA|                  319504|                  281.0|\n|         Roseville|          California|        CA|                  128615|                   null|\n|        Sacramento|          California|        CA|                  485199|                  275.8|\n|           Salinas|          California|        CA|                  156677|                   null|\n|    San Bernardino|          California|        CA|                  215213|                   null|\n|         San Diego|          California|        CA|                 1381069|                  510.3|\n| San Francisco[10]|          California|        CA|                  852469|                  748.3|\n|          San Jose|          California|        CA|                 1015785|                  900.0|\n|         San Mateo|          California|        CA|                  102893|                   null|\n|         Santa Ana|          California|        CA|                  334909|                   null|\n|       Santa Clara|          California|        CA|                  122192|                   null|\n|     Santa Clarita|          California|        CA|                  181557|                   null|\n|       Santa Maria|          California|        CA|                  103410|                   null|\n|        Santa Rosa|          California|        CA|                  174170|                   null|\n|       Simi Valley|          California|        CA|                  126871|                   null|\n|          Stockton|          California|        CA|                  302389|                   null|\n|         Sunnyvale|          California|        CA|                  149980|                   null|\n|          Temecula|          California|        CA|                  109428|                   null|\n|     Thousand Oaks|          California|        CA|                  129342|                   null|\n|          Torrance|          California|        CA|                  148495|                   null|\n|           Vallejo|          California|        CA|                  120228|                   null|\n|       Ventura[29]|          California|        CA|                  109484|                   null|\n|       Victorville|          California|        CA|                  121901|                   null|\n|           Visalia|          California|        CA|                  129281|                   null|\n|       West Covina|          California|        CA|                  108455|                   null|\n|            Arvada|            Colorado|        CO|                  113574|                   null|\n|            Aurora|            Colorado|        CO|                  353108|                   null|\n|           Boulder|            Colorado|        CO|                  105112|                  442.2|\n|        Centennial|            Colorado|        CO|                  107201|                   null|\n|  Colorado Springs|            Colorado|        CO|                  445830|                  220.1|\n|        Denver[12]|            Colorado|        CO|                  663862|                  338.1|\n|      Fort Collins|            Colorado|        CO|                  156480|                   null|\n|          Lakewood|            Colorado|        CO|                  149643|                   null|\n|            Pueblo|            Colorado|        CO|                  108423|                   null|\n|          Thornton|            Colorado|        CO|                  130307|                   null|\n|       Westminster|            Colorado|        CO|                  112090|                   null|\n|        Bridgeport|         Connecticut|        CT|                  147612|                  342.7|\n|          Hartford|         Connecticut|        CT|                  124705|                  202.6|\n|         New Haven|         Connecticut|        CT|                  130282|                  205.1|\n|          Stamford|         Connecticut|        CT|                  128278|                   null|\n|         Waterbury|         Connecticut|        CT|                  109307|                   null|\n|    Washington[13]|District of Columbia|        DC|                  658893|                  367.8|\n|        Cape Coral|             Florida|        FL|                  169854|                  208.0|\n|        Clearwater|             Florida|        FL|                  110703|                   null|\n|     Coral Springs|             Florida|        FL|                  127952|                   null|\n|   Fort Lauderdale|             Florida|        FL|                  176013|                   null|\n|       Gainesville|             Florida|        FL|                  128460|                  169.9|\n|           Hialeah|             Florida|        FL|                  235563|                   null|\n|         Hollywood|             Florida|        FL|                  148047|                   null|\n|   Jacksonville[9]|             Florida|        FL|                  853382|                  182.5|\n|          Lakeland|             Florida|        FL|                  102346|                  136.0|\n|             Miami|             Florida|        FL|                  430332|                  269.1|\n|     Miami Gardens|             Florida|        FL|                  112265|                   null|\n|           Miramar|             Florida|        FL|                  134989|                   null|\n|           Orlando|             Florida|        FL|                  262372|                   null|\n|          Palm Bay|             Florida|        FL|                  105838|                  145.0|\n|    Pembroke Pines|             Florida|        FL|                  164626|                   null|\n|     Pompano Beach|             Florida|        FL|                  106105|                   null|\n|    Port St. Lucie|             Florida|        FL|                  174110|                  172.0|\n|    St. Petersburg|             Florida|        FL|                  253693|                   null|\n|       Tallahassee|             Florida|        FL|                  188107|                  170.5|\n|             Tampa|             Florida|        FL|                  358699|                  156.0|\n|   West Palm Beach|             Florida|        FL|                  104031|                   null|\n|        Athens[28]|             Georgia|        GA|                  119648|                   null|\n|           Atlanta|             Georgia|        GA|                  456002|                  158.0|\n|       Augusta[24]|             Georgia|        GA|                  196741|                   null|\n|      Columbus[23]|             Georgia|        GA|                  200887|                   null|\n|             Macon|             Georgia|        GA|                    null|                   null|\n|     Sandy Springs|             Georgia|        GA|                  101908|                   null|\n|          Savannah|             Georgia|        GA|                  144352|                   null|\n|       Honolulu[2]|             Hawai'i|        HI|                  350399|                  699.3|\n|         Boise[22]|               Idaho|        ID|                  216282|                  178.7|\n|            Aurora|            Illinois|        IL|                  200456|                   null|\n|           Chicago|            Illinois|        IL|                 2722389|                  192.5|\n|             Elgin|            Illinois|        IL|                  111117|                   null|\n|            Joliet|            Illinois|        IL|                  147928|                   null|\n|        Naperville|            Illinois|        IL|                  146128|                   null|\n|            Peoria|            Illinois|        IL|                  115828|                  105.2|\n|          Rockford|            Illinois|        IL|                  149123|                   78.6|\n|       Springfield|            Illinois|        IL|                  116809|                  115.2|\n|        Evansville|             Indiana|        IN|                  120346|                   null|\n|        Fort Wayne|             Indiana|        IN|                  258522|                  106.3|\n|  Indianapolis[11]|             Indiana|        IN|                  848788|                  139.2|\n|      Cedar Rapids|                Iowa|        IA|                  129195|                  156.9|\n|         Davenport|                Iowa|        IA|                  102448|                  109.4|\n|        Des Moines|                Iowa|        IA|                  209220|                   null|\n|   Kansas City[26]|              Kansas|        KS|                  149636|                   null|\n|            Olathe|              Kansas|        KS|                  133062|                   null|\n|     Overland Park|              Kansas|        KS|                  184525|                   null|\n|            Topeka|              Kansas|        KS|                  127215|                  105.3|\n|           Wichita|              Kansas|        KS|                  388413|                  126.0|\n|     Lexington[18]|            Kentucky|        KY|                  310797|                  141.2|\n|    Louisville[16]|            Kentucky|        KY|                  612780|                  141.1|\n|   Baton Rouge[21]|           Louisiana|        LA|                  228895|                  177.2|\n|     Lafayette[27]|           Louisiana|        LA|                  126066|                   null|\n|   New Orleans[17]|           Louisiana|        LA|                  384320|                   null|\n|        Shreveport|           Louisiana|        LA|                  198242|                  151.6|\n|     Baltimore[15]|            Maryland|        MD|                  622793|                  223.1|\n|            Boston|       Massachusetts|        MA|                  655884|                  374.6|\n|         Cambridge|       Massachusetts|        MA|                  109694|                   null|\n|            Lowell|       Massachusetts|        MA|                  109945|                   null|\n|       Springfield|       Massachusetts|        MA|                  153991|                  183.9|\n|         Worcester|       Massachusetts|        MA|                  183016|                  226.9|\n|         Ann Arbor|            Michigan|        MI|                  117770|                   null|\n|           Detroit|            Michigan|        MI|                  680250|                   null|\n|      Grand Rapids|            Michigan|        MI|                  193792|                   null|\n|           Lansing|            Michigan|        MI|                  114620|                  114.6|\n|  Sterling Heights|            Michigan|        MI|                  131741|                   null|\n|            Warren|            Michigan|        MI|                  135099|                   null|\n|       Minneapolis|           Minnesota|        MN|                  407207|                  209.4|\n|         Rochester|           Minnesota|        MN|                  111402|                   null|\n|        Saint Paul|           Minnesota|        MN|                  297640|                   null|\n|           Jackson|         Mississippi|        MS|                  171155|                  154.1|\n|          Columbia|            Missouri|        MO|                  116906|                   null|\n|      Independence|            Missouri|        MO|                  117494|                   null|\n|       Kansas City|            Missouri|        MO|                  470800|                  153.0|\n|       Springfield|            Missouri|        MO|                  165378|                  116.5|\n|     St. Louis[15]|            Missouri|        MO|                  317419|                   null|\n|          Billings|             Montana|        MT|                  108869|                   null|\n|           Lincoln|            Nebraska|        NE|                  272996|                  150.2|\n|             Omaha|            Nebraska|        NE|                  446599|                  148.1|\n|         Henderson|              Nevada|        NV|                  277440|                   null|\n|         Las Vegas|              Nevada|        NV|                  613599|                  205.9|\n|   North Las Vegas|              Nevada|        NV|                  230788|                   null|\n|              Reno|              Nevada|        NV|                  236995|                  268.7|\n|        Manchester|       New Hampshire|        NH|                  110448|                  237.4|\n|         Elizabeth|          New Jersey|        NJ|                  128705|                   null|\n|       Jersey City|          New Jersey|        NJ|                  262146|                   null|\n|            Newark|          New Jersey|        NJ|                  280579|                  350.8|\n|          Paterson|          New Jersey|        NJ|                  146753|                   null|\n|       Albuquerque|          New Mexico|        NM|                  557169|                  172.2|\n|        Las Cruces|          New Mexico|        NM|                  101408|                   null|\n|           Buffalo|            New York|        NY|                  258703|                  117.3|\n|       New York[6]|            New York|        NY|                 8491079|                  388.6|\n|         Rochester|            New York|        NY|                  209983|                  118.9|\n|          Syracuse|            New York|        NY|                  144263|                  118.3|\n|           Yonkers|            New York|        NY|                  200667|                   null|\n|          Cary[25]|      North Carolina|        NC|                  155227|                   null|\n|         Charlotte|      North Carolina|        NC|                  809958|                  197.2|\n|            Durham|      North Carolina|        NC|                  251893|                  196.9|\n|      Fayetteville|      North Carolina|        NC|                  203948|                  145.0|\n|        Greensboro|      North Carolina|        NC|                  282586|                  138.3|\n|        High Point|      North Carolina|        NC|                  108629|                   null|\n|           Raleigh|      North Carolina|        NC|                  439896|                  218.9|\n|        Wilmington|      North Carolina|        NC|                  113657|                  197.5|\n|     Winston�Salem|      North Carolina|        NC|                  239269|                  138.6|\n|             Fargo|        North Dakota|        ND|                  115863|                  180.0|\n|             Akron|                Ohio|        OH|                  197859|                   95.4|\n|        Cincinnati|                Ohio|        OH|                  298165|                  135.0|\n|         Cleveland|                Ohio|        OH|                  389521|                  105.9|\n|          Columbus|                Ohio|        OH|                  835957|                  149.9|\n|            Dayton|                Ohio|        OH|                  141003|                  107.2|\n|            Toledo|                Ohio|        OH|                  281031|                   83.8|\n|      Broken Arrow|            Oklahoma|        OK|                  104726|                   null|\n|            Norman|            Oklahoma|        OK|                  118040|                   null|\n|     Oklahoma City|            Oklahoma|        OK|                  620602|                   null|\n|             Tulsa|            Oklahoma|        OK|                  399682|                  145.1|\n|            Eugene|              Oregon|        OR|                  160561|                  211.3|\n|           Gresham|              Oregon|        OR|                  109892|                   null|\n|          Portland|              Oregon|        OR|                  619360|                  289.4|\n|             Salem|              Oregon|        OR|                  161637|                  193.9|\n|         Allentown|        Pennsylvania|        PA|                  119104|                  162.7|\n|   Philadelphia[8]|        Pennsylvania|        PA|                 1560297|                  204.9|\n|        Pittsburgh|        Pennsylvania|        PA|                  305412|                   null|\n|        Providence|        Rhode Island|        RI|                  179154|                  233.3|\n|        Charleston|      South Carolina|        SC|                  130113|                   null|\n|          Columbia|      South Carolina|        SC|                  132067|                   null|\n|  North Charleston|      South Carolina|        SC|                  106749|                   null|\n|       Sioux Falls|        South Dakota|        SD|                  168586|                  159.5|\n|       Chattanooga|           Tennessee|        TN|                  173778|                  143.6|\n|       Clarksville|           Tennessee|        TN|                  146806|                   null|\n|         Knoxville|           Tennessee|        TN|                  184281|                  149.2|\n|           Memphis|           Tennessee|        TN|                  656861|                  132.1|\n|      Murfreesboro|           Tennessee|        TN|                  120954|                   null|\n|     Nashville[14]|           Tennessee|        TN|                  644014|                  186.4|\n|           Abilene|               Texas|        TX|                  120958|                  145.7|\n|          Amarillo|               Texas|        TX|                  197254|                  144.4|\n|         Arlington|               Texas|        TX|                  383204|                   null|\n|            Austin|               Texas|        TX|                  912791|                  249.1|\n|          Beaumont|               Texas|        TX|                  117585|                  133.3|\n|       Brownsville|               Texas|        TX|                  183046|                   null|\n|        Carrollton|               Texas|        TX|                  128353|                   null|\n|   College Station|               Texas|        TX|                  103483|                   null|\n|    Corpus Christi|               Texas|        TX|                  320434|                  172.9|\n|            Dallas|               Texas|        TX|                 1281047|                  192.5|\n|            Denton|               Texas|        TX|                  128205|                   null|\n|           El Paso|               Texas|        TX|                  679036|                  138.4|\n|        Fort Worth|               Texas|        TX|                  812238|                   null|\n|            Frisco|               Texas|        TX|                  145035|                   null|\n|           Garland|               Texas|        TX|                  235501|                   null|\n|     Grand Prairie|               Texas|        TX|                  185453|                   null|\n|        Houston[7]|               Texas|        TX|                 2239558|                  200.3|\n|            Irving|               Texas|        TX|                  232406|                   null|\n|           Killeen|               Texas|        TX|                  138154|                   null|\n|            Laredo|               Texas|        TX|                  252309|                   null|\n|        Lewisville|               Texas|        TX|                  102889|                   null|\n|           Lubbock|               Texas|        TX|                  243839|                   null|\n|           McAllen|               Texas|        TX|                  138596|                   null|\n|          McKinney|               Texas|        TX|                  156767|                   null|\n|          Mesquite|               Texas|        TX|                  144416|                   null|\n|           Midland|               Texas|        TX|                  128037|                   null|\n|            Odessa|               Texas|        TX|                  114597|                   null|\n|          Pasadena|               Texas|        TX|                  153887|                   null|\n|          Pearland|               Texas|        TX|                  103441|                   null|\n|             Plano|               Texas|        TX|                  278480|                   null|\n|        Richardson|               Texas|        TX|                  108617|                   null|\n|        Round Rock|               Texas|        TX|                  112744|                   null|\n|       San Antonio|               Texas|        TX|                 1436697|                  184.7|\n|             Tyler|               Texas|        TX|                  101421|                   null|\n|              Waco|               Texas|        TX|                  130194|                   null|\n|     Wichita Falls|               Texas|        TX|                  105114|                   null|\n|             Provo|                Utah|        UT|                  114801|                   null|\n|    Salt Lake City|                Utah|        UT|                  190884|                  243.3|\n|       West Jordan|                Utah|        UT|                  110920|                   null|\n|  West Valley City|                Utah|        UT|                  134495|                   null|\n|    Alexandria[15]|            Virginia|        VA|                  150575|                   null|\n|    Chesapeake[15]|            Virginia|        VA|                  233371|                   null|\n|       Hampton[15]|            Virginia|        VA|                  136879|                   null|\n|  Newport News[15]|            Virginia|        VA|                  182965|                   null|\n|       Norfolk[15]|            Virginia|        VA|                  245428|                   null|\n|      Richmond[15]|            Virginia|        VA|                  217853|                  212.5|\n|Virginia Beach[15]|            Virginia|        VA|                  450980|                  190.0|\n|          Bellevue|          Washington|        WA|                  136426|                   null|\n|           Everett|          Washington|        WA|                  106736|                   null|\n|              Kent|          Washington|        WA|                  125560|                   null|\n|           Seattle|          Washington|        WA|                  668342|                  352.4|\n|           Spokane|          Washington|        WA|                  212052|                  180.2|\n|            Tacoma|          Washington|        WA|                  205159|                   null|\n|         Vancouver|          Washington|        WA|                  169294|                   null|\n|         Green Bay|           Wisconsin|        WI|                  104891|                   null|\n|           Madison|           Wisconsin|        WI|                  245691|                  226.2|\n|         Milwaukee|           Wisconsin|        WI|                  599642|                  195.4|\n+------------------+--------------------+----------+------------------------+-----------------------+\n\n"
     ]
    }
   ],
   "source": [
    "df_selected.show(10000)"
   ]
  }
 ],
 "metadata": {
  "application/vnd.databricks.v1+notebook": {
   "computePreferences": null,
   "dashboards": [],
   "environmentMetadata": {
    "base_environment": "",
    "environment_version": "1"
   },
   "inputWidgetPreferences": null,
   "language": "python",
   "notebookMetadata": {
    "pythonIndentUnit": 4
   },
   "notebookName": "4. PopulationPrice Analysis",
   "widgets": {}
  }
 },
 "nbformat": 4,
 "nbformat_minor": 0
}